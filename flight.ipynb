{
 "cells": [
  {
   "cell_type": "code",
   "execution_count": 1,
   "metadata": {},
   "outputs": [],
   "source": [
    "import pandas as pd\n",
    "import numpy as np\n"
   ]
  },
  {
   "cell_type": "code",
   "execution_count": 2,
   "metadata": {},
   "outputs": [
    {
     "data": {
      "text/html": [
       "<div>\n",
       "<style scoped>\n",
       "    .dataframe tbody tr th:only-of-type {\n",
       "        vertical-align: middle;\n",
       "    }\n",
       "\n",
       "    .dataframe tbody tr th {\n",
       "        vertical-align: top;\n",
       "    }\n",
       "\n",
       "    .dataframe thead th {\n",
       "        text-align: right;\n",
       "    }\n",
       "</style>\n",
       "<table border=\"1\" class=\"dataframe\">\n",
       "  <thead>\n",
       "    <tr style=\"text-align: right;\">\n",
       "      <th></th>\n",
       "      <th>DayOfWeek</th>\n",
       "      <th>Date</th>\n",
       "      <th>DepTime</th>\n",
       "      <th>ArrTime</th>\n",
       "      <th>CRSArrTime</th>\n",
       "      <th>UniqueCarrier</th>\n",
       "      <th>Airline</th>\n",
       "      <th>FlightNum</th>\n",
       "      <th>TailNum</th>\n",
       "      <th>ActualElapsedTime</th>\n",
       "      <th>...</th>\n",
       "      <th>TaxiIn</th>\n",
       "      <th>TaxiOut</th>\n",
       "      <th>Cancelled</th>\n",
       "      <th>CancellationCode</th>\n",
       "      <th>Diverted</th>\n",
       "      <th>CarrierDelay</th>\n",
       "      <th>WeatherDelay</th>\n",
       "      <th>NASDelay</th>\n",
       "      <th>SecurityDelay</th>\n",
       "      <th>LateAircraftDelay</th>\n",
       "    </tr>\n",
       "  </thead>\n",
       "  <tbody>\n",
       "    <tr>\n",
       "      <th>0</th>\n",
       "      <td>4</td>\n",
       "      <td>03-01-2019</td>\n",
       "      <td>1829</td>\n",
       "      <td>1959</td>\n",
       "      <td>1925</td>\n",
       "      <td>WN</td>\n",
       "      <td>Southwest Airlines Co.</td>\n",
       "      <td>3920</td>\n",
       "      <td>N464WN</td>\n",
       "      <td>90</td>\n",
       "      <td>...</td>\n",
       "      <td>3</td>\n",
       "      <td>10</td>\n",
       "      <td>0</td>\n",
       "      <td>N</td>\n",
       "      <td>0</td>\n",
       "      <td>2</td>\n",
       "      <td>0</td>\n",
       "      <td>0</td>\n",
       "      <td>0</td>\n",
       "      <td>32</td>\n",
       "    </tr>\n",
       "    <tr>\n",
       "      <th>1</th>\n",
       "      <td>4</td>\n",
       "      <td>03-01-2019</td>\n",
       "      <td>1937</td>\n",
       "      <td>2037</td>\n",
       "      <td>1940</td>\n",
       "      <td>WN</td>\n",
       "      <td>Southwest Airlines Co.</td>\n",
       "      <td>509</td>\n",
       "      <td>N763SW</td>\n",
       "      <td>240</td>\n",
       "      <td>...</td>\n",
       "      <td>3</td>\n",
       "      <td>7</td>\n",
       "      <td>0</td>\n",
       "      <td>N</td>\n",
       "      <td>0</td>\n",
       "      <td>10</td>\n",
       "      <td>0</td>\n",
       "      <td>0</td>\n",
       "      <td>0</td>\n",
       "      <td>47</td>\n",
       "    </tr>\n",
       "    <tr>\n",
       "      <th>2</th>\n",
       "      <td>4</td>\n",
       "      <td>03-01-2019</td>\n",
       "      <td>1644</td>\n",
       "      <td>1845</td>\n",
       "      <td>1725</td>\n",
       "      <td>WN</td>\n",
       "      <td>Southwest Airlines Co.</td>\n",
       "      <td>1333</td>\n",
       "      <td>N334SW</td>\n",
       "      <td>121</td>\n",
       "      <td>...</td>\n",
       "      <td>6</td>\n",
       "      <td>8</td>\n",
       "      <td>0</td>\n",
       "      <td>N</td>\n",
       "      <td>0</td>\n",
       "      <td>8</td>\n",
       "      <td>0</td>\n",
       "      <td>0</td>\n",
       "      <td>0</td>\n",
       "      <td>72</td>\n",
       "    </tr>\n",
       "    <tr>\n",
       "      <th>3</th>\n",
       "      <td>4</td>\n",
       "      <td>03-01-2019</td>\n",
       "      <td>1452</td>\n",
       "      <td>1640</td>\n",
       "      <td>1625</td>\n",
       "      <td>WN</td>\n",
       "      <td>Southwest Airlines Co.</td>\n",
       "      <td>675</td>\n",
       "      <td>N286WN</td>\n",
       "      <td>228</td>\n",
       "      <td>...</td>\n",
       "      <td>7</td>\n",
       "      <td>8</td>\n",
       "      <td>0</td>\n",
       "      <td>N</td>\n",
       "      <td>0</td>\n",
       "      <td>3</td>\n",
       "      <td>0</td>\n",
       "      <td>0</td>\n",
       "      <td>0</td>\n",
       "      <td>12</td>\n",
       "    </tr>\n",
       "    <tr>\n",
       "      <th>4</th>\n",
       "      <td>4</td>\n",
       "      <td>03-01-2019</td>\n",
       "      <td>1323</td>\n",
       "      <td>1526</td>\n",
       "      <td>1510</td>\n",
       "      <td>WN</td>\n",
       "      <td>Southwest Airlines Co.</td>\n",
       "      <td>4</td>\n",
       "      <td>N674AA</td>\n",
       "      <td>123</td>\n",
       "      <td>...</td>\n",
       "      <td>4</td>\n",
       "      <td>9</td>\n",
       "      <td>0</td>\n",
       "      <td>N</td>\n",
       "      <td>0</td>\n",
       "      <td>0</td>\n",
       "      <td>0</td>\n",
       "      <td>0</td>\n",
       "      <td>0</td>\n",
       "      <td>16</td>\n",
       "    </tr>\n",
       "  </tbody>\n",
       "</table>\n",
       "<p>5 rows × 29 columns</p>\n",
       "</div>"
      ],
      "text/plain": [
       "   DayOfWeek        Date  DepTime  ArrTime  CRSArrTime UniqueCarrier  \\\n",
       "0          4  03-01-2019     1829     1959        1925            WN   \n",
       "1          4  03-01-2019     1937     2037        1940            WN   \n",
       "2          4  03-01-2019     1644     1845        1725            WN   \n",
       "3          4  03-01-2019     1452     1640        1625            WN   \n",
       "4          4  03-01-2019     1323     1526        1510            WN   \n",
       "\n",
       "                  Airline  FlightNum TailNum  ActualElapsedTime  ...  TaxiIn  \\\n",
       "0  Southwest Airlines Co.       3920  N464WN                 90  ...       3   \n",
       "1  Southwest Airlines Co.        509  N763SW                240  ...       3   \n",
       "2  Southwest Airlines Co.       1333  N334SW                121  ...       6   \n",
       "3  Southwest Airlines Co.        675  N286WN                228  ...       7   \n",
       "4  Southwest Airlines Co.          4  N674AA                123  ...       4   \n",
       "\n",
       "   TaxiOut  Cancelled  CancellationCode Diverted CarrierDelay WeatherDelay  \\\n",
       "0       10          0                 N        0            2            0   \n",
       "1        7          0                 N        0           10            0   \n",
       "2        8          0                 N        0            8            0   \n",
       "3        8          0                 N        0            3            0   \n",
       "4        9          0                 N        0            0            0   \n",
       "\n",
       "  NASDelay  SecurityDelay  LateAircraftDelay  \n",
       "0        0              0                 32  \n",
       "1        0              0                 47  \n",
       "2        0              0                 72  \n",
       "3        0              0                 12  \n",
       "4        0              0                 16  \n",
       "\n",
       "[5 rows x 29 columns]"
      ]
     },
     "execution_count": 2,
     "metadata": {},
     "output_type": "execute_result"
    }
   ],
   "source": [
    "df = pd.read_csv(\"data/Flight_delay.csv\")\n",
    "df.head()"
   ]
  },
  {
   "cell_type": "code",
   "execution_count": 3,
   "metadata": {},
   "outputs": [
    {
     "data": {
      "text/plain": [
       "DayOfWeek             int64\n",
       "Date                 object\n",
       "CRSArrTime            int64\n",
       "Airline              object\n",
       "CRSElapsedTime        int64\n",
       "Origin               object\n",
       "Dest                 object\n",
       "Distance              int64\n",
       "CarrierDelay          int64\n",
       "WeatherDelay          int64\n",
       "NASDelay              int64\n",
       "SecurityDelay         int64\n",
       "LateAircraftDelay     int64\n",
       "dtype: object"
      ]
     },
     "execution_count": 3,
     "metadata": {},
     "output_type": "execute_result"
    }
   ],
   "source": [
    "#gets only the needed columns\n",
    "df=df[['DayOfWeek','Date','CRSArrTime','Airline','CRSElapsedTime','Origin','Dest','Distance','CarrierDelay','WeatherDelay','NASDelay','SecurityDelay','LateAircraftDelay']]\n",
    "df.dtypes"
   ]
  },
  {
   "cell_type": "code",
   "execution_count": 4,
   "metadata": {},
   "outputs": [
    {
     "data": {
      "text/plain": [
       "0         34\n",
       "1         57\n",
       "2         80\n",
       "3         15\n",
       "4         16\n",
       "          ..\n",
       "484546    27\n",
       "484547    39\n",
       "484548    47\n",
       "484549    26\n",
       "484550    18\n",
       "Name: DelayTime, Length: 484551, dtype: int64"
      ]
     },
     "execution_count": 4,
     "metadata": {},
     "output_type": "execute_result"
    }
   ],
   "source": [
    "#combine all delay columns into one DelayTime column\n",
    "df['DelayTime']=df['CarrierDelay']+df['WeatherDelay']+df['NASDelay']+df['SecurityDelay']+df['LateAircraftDelay']\n",
    "df['DelayTime']"
   ]
  },
  {
   "cell_type": "code",
   "execution_count": 5,
   "metadata": {},
   "outputs": [
    {
     "data": {
      "text/html": [
       "<div>\n",
       "<style scoped>\n",
       "    .dataframe tbody tr th:only-of-type {\n",
       "        vertical-align: middle;\n",
       "    }\n",
       "\n",
       "    .dataframe tbody tr th {\n",
       "        vertical-align: top;\n",
       "    }\n",
       "\n",
       "    .dataframe thead th {\n",
       "        text-align: right;\n",
       "    }\n",
       "</style>\n",
       "<table border=\"1\" class=\"dataframe\">\n",
       "  <thead>\n",
       "    <tr style=\"text-align: right;\">\n",
       "      <th></th>\n",
       "      <th>DayOfWeek</th>\n",
       "      <th>Date</th>\n",
       "      <th>CRSArrTime</th>\n",
       "      <th>Airline</th>\n",
       "      <th>CRSElapsedTime</th>\n",
       "      <th>Origin</th>\n",
       "      <th>Dest</th>\n",
       "      <th>Distance</th>\n",
       "      <th>DelayTime</th>\n",
       "    </tr>\n",
       "  </thead>\n",
       "  <tbody>\n",
       "    <tr>\n",
       "      <th>0</th>\n",
       "      <td>4</td>\n",
       "      <td>03-01-2019</td>\n",
       "      <td>1925</td>\n",
       "      <td>Southwest Airlines Co.</td>\n",
       "      <td>90</td>\n",
       "      <td>IND</td>\n",
       "      <td>BWI</td>\n",
       "      <td>515</td>\n",
       "      <td>34</td>\n",
       "    </tr>\n",
       "    <tr>\n",
       "      <th>1</th>\n",
       "      <td>4</td>\n",
       "      <td>03-01-2019</td>\n",
       "      <td>1940</td>\n",
       "      <td>Southwest Airlines Co.</td>\n",
       "      <td>250</td>\n",
       "      <td>IND</td>\n",
       "      <td>LAS</td>\n",
       "      <td>1591</td>\n",
       "      <td>57</td>\n",
       "    </tr>\n",
       "    <tr>\n",
       "      <th>2</th>\n",
       "      <td>4</td>\n",
       "      <td>03-01-2019</td>\n",
       "      <td>1725</td>\n",
       "      <td>Southwest Airlines Co.</td>\n",
       "      <td>135</td>\n",
       "      <td>IND</td>\n",
       "      <td>MCO</td>\n",
       "      <td>828</td>\n",
       "      <td>80</td>\n",
       "    </tr>\n",
       "    <tr>\n",
       "      <th>3</th>\n",
       "      <td>4</td>\n",
       "      <td>03-01-2019</td>\n",
       "      <td>1625</td>\n",
       "      <td>Southwest Airlines Co.</td>\n",
       "      <td>240</td>\n",
       "      <td>IND</td>\n",
       "      <td>PHX</td>\n",
       "      <td>1489</td>\n",
       "      <td>15</td>\n",
       "    </tr>\n",
       "    <tr>\n",
       "      <th>4</th>\n",
       "      <td>4</td>\n",
       "      <td>03-01-2019</td>\n",
       "      <td>1510</td>\n",
       "      <td>Southwest Airlines Co.</td>\n",
       "      <td>135</td>\n",
       "      <td>IND</td>\n",
       "      <td>TPA</td>\n",
       "      <td>838</td>\n",
       "      <td>16</td>\n",
       "    </tr>\n",
       "  </tbody>\n",
       "</table>\n",
       "</div>"
      ],
      "text/plain": [
       "   DayOfWeek        Date  CRSArrTime                 Airline  CRSElapsedTime  \\\n",
       "0          4  03-01-2019        1925  Southwest Airlines Co.              90   \n",
       "1          4  03-01-2019        1940  Southwest Airlines Co.             250   \n",
       "2          4  03-01-2019        1725  Southwest Airlines Co.             135   \n",
       "3          4  03-01-2019        1625  Southwest Airlines Co.             240   \n",
       "4          4  03-01-2019        1510  Southwest Airlines Co.             135   \n",
       "\n",
       "  Origin Dest  Distance  DelayTime  \n",
       "0    IND  BWI       515         34  \n",
       "1    IND  LAS      1591         57  \n",
       "2    IND  MCO       828         80  \n",
       "3    IND  PHX      1489         15  \n",
       "4    IND  TPA       838         16  "
      ]
     },
     "execution_count": 5,
     "metadata": {},
     "output_type": "execute_result"
    }
   ],
   "source": [
    "#drop extraneous delay columns\n",
    "df=df.drop(['CarrierDelay','WeatherDelay','NASDelay','SecurityDelay','LateAircraftDelay'],axis=1)\n",
    "df.head()"
   ]
  },
  {
   "cell_type": "code",
   "execution_count": 6,
   "metadata": {},
   "outputs": [
    {
     "data": {
      "text/plain": [
       "0         1165\n",
       "1         1180\n",
       "2         1045\n",
       "3          985\n",
       "4          910\n",
       "          ... \n",
       "484546    1155\n",
       "484547    1155\n",
       "484548    1155\n",
       "484549    1155\n",
       "484550    1155\n",
       "Name: CRSArrTime, Length: 484551, dtype: int64"
      ]
     },
     "execution_count": 6,
     "metadata": {},
     "output_type": "execute_result"
    }
   ],
   "source": [
    "#Convert hhmm columns into total mins\n",
    "df[['CRSArrTime']]=df[['CRSArrTime']].apply(lambda x: x//100*60+x%100)\n",
    "df['CRSArrTime']\n"
   ]
  },
  {
   "cell_type": "code",
   "execution_count": 7,
   "metadata": {},
   "outputs": [
    {
     "data": {
      "text/plain": [
       "0         17899\n",
       "1         17899\n",
       "2         17899\n",
       "3         17899\n",
       "4         17899\n",
       "          ...  \n",
       "484546    18060\n",
       "484547    18061\n",
       "484548    18064\n",
       "484549    18069\n",
       "484550    18070\n",
       "Name: Date, Length: 484551, dtype: int64"
      ]
     },
     "execution_count": 7,
     "metadata": {},
     "output_type": "execute_result"
    }
   ],
   "source": [
    "from datetime import datetime\n",
    "epoch = datetime(1970, 1, 1)\n",
    "df['Date']=df['Date'].apply(lambda x: (datetime.strptime(x, '%d-%m-%Y')-epoch).days)\n",
    "df['Date']"
   ]
  },
  {
   "cell_type": "code",
   "execution_count": 8,
   "metadata": {},
   "outputs": [],
   "source": [
    "from sklearn.preprocessing import OrdinalEncoder\n",
    "\n",
    "airport_enc = OrdinalEncoder()\n",
    "airline_enc = OrdinalEncoder()\n",
    "airport_cols=['Origin','Dest']\n",
    "df[airport_cols]=airport_enc.fit_transform(df[airport_cols])\n",
    "df[['Airline']]=airline_enc.fit_transform(df[['Airline']])"
   ]
  },
  {
   "cell_type": "code",
   "execution_count": 1,
   "metadata": {},
   "outputs": [],
   "source": [
    "import torch\n",
    "from torch import nn\n",
    "import torch.nn.functional as F\n",
    "from tqdm import tqdm\n",
    "\n",
    "class DelayNetwork(nn.Module):\n",
    "    def __init__(self,input_size):\n",
    "        super().__init__()\n",
    "\n",
    "        self.flatten = nn.Flatten()\n",
    "        self.linear_relu_stack = nn.Sequential(\n",
    "            nn.BatchNorm1d(input_size),\n",
    "            nn.Linear(input_size,128),\n",
    "            nn.ReLU(),\n",
    "            nn.BatchNorm1d(128),\n",
    "            nn.Linear(128,64),\n",
    "            nn.ReLU(),\n",
    "            nn.BatchNorm1d(64),\n",
    "            nn.Linear(64,32),\n",
    "            nn.ReLU(),\n",
    "            nn.BatchNorm1d(32),\n",
    "            nn.Linear(32,16),\n",
    "            nn.ReLU(),\n",
    "            nn.BatchNorm1d(16),\n",
    "            nn.Linear(16,1)\n",
    "        )\n",
    "\n",
    "    def forward(self,x):\n",
    "        x = self.flatten(x)\n",
    "        x = self.linear_relu_stack(x)\n",
    "\n",
    "        return x\n",
    "\n",
    "class DelayDataset(torch.utils.data.Dataset):\n",
    "    def __init__(self,data):\n",
    "        self.features=data.drop(['DelayTime'],axis=1)\n",
    "        self.labels=data['DelayTime']\n",
    "        #print(f\"features: {self.features.shape}\\nlabels: {self.labels.shape}\\n\")\n",
    "\n",
    "    def __len__(self):\n",
    "        return len(self.features)\n",
    "    \n",
    "    def __getitem__(self,idx):\n",
    "\n",
    "        if torch.is_tensor(idx):\n",
    "            idx = idx.tolist()\n",
    "        \n",
    "        feature_items=self.features.iloc[[idx]].to_numpy()\n",
    "        label_items=self.labels.iloc[[idx]].to_numpy()\n",
    "\n",
    "        x=torch.tensor(feature_items,dtype=torch.float32)\n",
    "        y=torch.tensor(label_items,dtype=torch.float32)       \n",
    "\n",
    "        return x,y\n",
    "\n",
    "def train_loop(model,dataloader,optimizer,epoch):\n",
    "    model.train()\n",
    "    for batch in tqdm(dataloader, desc=f\"Epoch {epoch}: \"):\n",
    "        inputs, labels = batch\n",
    "        labels=torch.flatten(labels)\n",
    "        pred = model(inputs)\n",
    "        \n",
    "        loss=F.l1_loss(torch.ravel(pred), labels)\n",
    "\n",
    "        loss.backward()\n",
    "        optimizer.step()\n",
    "        optimizer.zero_grad()\n",
    "\n",
    "def test_loop(model,dataloader):\n",
    "    model.eval()\n",
    "    size = len(dataloader)\n",
    "    test_loss=0\n",
    "    with torch.no_grad():\n",
    "        for batch in tqdm(dataloader, desc=\"Testing: \"):\n",
    "            inputs,labels=batch\n",
    "            labels=torch.flatten(labels)\n",
    "            pred=model(inputs)\n",
    "\n",
    "            test_loss+=F.l1_loss(torch.ravel(pred),labels).item()\n",
    "            \n",
    "    test_loss=test_loss / size\n",
    "    print(f'Test loss: {test_loss}')\n",
    "\n"
   ]
  },
  {
   "cell_type": "code",
   "execution_count": 10,
   "metadata": {},
   "outputs": [
    {
     "name": "stdout",
     "output_type": "stream",
     "text": [
      "Training size: 387640\n",
      "Testing size: 96911\n"
     ]
    }
   ],
   "source": [
    "from sklearn.model_selection import train_test_split\n",
    "\n",
    "model=DelayNetwork(df.shape[1]-1)\n",
    "train_df,test_df= train_test_split(df,test_size=.2,random_state=42)\n",
    "print(f\"Training size: {train_df.shape[0]}\\nTesting size: {test_df.shape[0]}\")"
   ]
  },
  {
   "cell_type": "code",
   "execution_count": 11,
   "metadata": {},
   "outputs": [],
   "source": [
    "from torch.utils.data import DataLoader\n",
    "\n",
    "batch_size=32\n",
    "epochs=10\n",
    "train_dataset,test_dataset=DelayDataset(train_df),DelayDataset(test_df)\n",
    "train_dataloader = DataLoader(train_dataset, batch_size=batch_size, shuffle=True,drop_last=True)\n",
    "test_dataloader = DataLoader(test_dataset, batch_size=batch_size, shuffle=True,drop_last=True)"
   ]
  },
  {
   "cell_type": "code",
   "execution_count": 12,
   "metadata": {},
   "outputs": [
    {
     "name": "stderr",
     "output_type": "stream",
     "text": [
      "c:\\Users\\dbutz\\anaconda3\\envs\\cse217a\\lib\\site-packages\\transformers\\utils\\generic.py:441: UserWarning: torch.utils._pytree._register_pytree_node is deprecated. Please use torch.utils._pytree.register_pytree_node instead.\n",
      "  _torch_pytree._register_pytree_node(\n"
     ]
    }
   ],
   "source": [
    "import torch.optim as optim\n",
    "\n",
    "lr=.005\n",
    "optimizer=optim.Adam(model.parameters(),lr=lr)"
   ]
  },
  {
   "cell_type": "code",
   "execution_count": 13,
   "metadata": {},
   "outputs": [
    {
     "name": "stderr",
     "output_type": "stream",
     "text": [
      "Epoch 1: 100%|██████████| 12113/12113 [02:54<00:00, 69.27it/s]\n",
      "Testing: 100%|██████████| 3028/3028 [00:33<00:00, 89.41it/s]\n"
     ]
    },
    {
     "name": "stdout",
     "output_type": "stream",
     "text": [
      "Test loss: 34.301689318023236\n",
      "==========================================\n"
     ]
    },
    {
     "name": "stderr",
     "output_type": "stream",
     "text": [
      "Epoch 2: 100%|██████████| 12113/12113 [02:54<00:00, 69.38it/s]\n",
      "Testing: 100%|██████████| 3028/3028 [00:33<00:00, 90.29it/s]\n"
     ]
    },
    {
     "name": "stdout",
     "output_type": "stream",
     "text": [
      "Test loss: 34.19482698339767\n",
      "==========================================\n"
     ]
    },
    {
     "name": "stderr",
     "output_type": "stream",
     "text": [
      "Epoch 3: 100%|██████████| 12113/12113 [03:04<00:00, 65.57it/s]\n",
      "Testing: 100%|██████████| 3028/3028 [00:34<00:00, 87.45it/s]\n"
     ]
    },
    {
     "name": "stdout",
     "output_type": "stream",
     "text": [
      "Test loss: 34.26018377465333\n",
      "==========================================\n"
     ]
    },
    {
     "name": "stderr",
     "output_type": "stream",
     "text": [
      "Epoch 4: 100%|██████████| 12113/12113 [03:04<00:00, 65.81it/s]\n",
      "Testing: 100%|██████████| 3028/3028 [00:34<00:00, 87.31it/s] \n"
     ]
    },
    {
     "name": "stdout",
     "output_type": "stream",
     "text": [
      "Test loss: 34.08999029270409\n",
      "==========================================\n"
     ]
    },
    {
     "name": "stderr",
     "output_type": "stream",
     "text": [
      "Epoch 5: 100%|██████████| 12113/12113 [02:59<00:00, 67.55it/s]\n",
      "Testing: 100%|██████████| 3028/3028 [00:31<00:00, 95.02it/s] \n"
     ]
    },
    {
     "name": "stdout",
     "output_type": "stream",
     "text": [
      "Test loss: 34.16665442018245\n",
      "==========================================\n"
     ]
    },
    {
     "name": "stderr",
     "output_type": "stream",
     "text": [
      "Epoch 6: 100%|██████████| 12113/12113 [02:48<00:00, 72.10it/s]\n",
      "Testing: 100%|██████████| 3028/3028 [00:33<00:00, 89.93it/s]\n"
     ]
    },
    {
     "name": "stdout",
     "output_type": "stream",
     "text": [
      "Test loss: 34.05214285189126\n",
      "==========================================\n"
     ]
    },
    {
     "name": "stderr",
     "output_type": "stream",
     "text": [
      "Epoch 7: 100%|██████████| 12113/12113 [02:49<00:00, 71.35it/s]\n",
      "Testing: 100%|██████████| 3028/3028 [00:33<00:00, 89.13it/s]\n"
     ]
    },
    {
     "name": "stdout",
     "output_type": "stream",
     "text": [
      "Test loss: 34.0711510175128\n",
      "==========================================\n"
     ]
    },
    {
     "name": "stderr",
     "output_type": "stream",
     "text": [
      "Epoch 8: 100%|██████████| 12113/12113 [02:49<00:00, 71.40it/s]\n",
      "Testing: 100%|██████████| 3028/3028 [00:34<00:00, 88.90it/s]\n"
     ]
    },
    {
     "name": "stdout",
     "output_type": "stream",
     "text": [
      "Test loss: 34.011102935282054\n",
      "==========================================\n"
     ]
    },
    {
     "name": "stderr",
     "output_type": "stream",
     "text": [
      "Epoch 9: 100%|██████████| 12113/12113 [02:52<00:00, 70.24it/s]\n",
      "Testing: 100%|██████████| 3028/3028 [00:32<00:00, 92.09it/s]\n"
     ]
    },
    {
     "name": "stdout",
     "output_type": "stream",
     "text": [
      "Test loss: 33.98875518960084\n",
      "==========================================\n"
     ]
    },
    {
     "name": "stderr",
     "output_type": "stream",
     "text": [
      "Epoch 10: 100%|██████████| 12113/12113 [02:48<00:00, 71.80it/s]\n",
      "Testing: 100%|██████████| 3028/3028 [00:32<00:00, 92.63it/s]"
     ]
    },
    {
     "name": "stdout",
     "output_type": "stream",
     "text": [
      "Test loss: 34.00089927110206\n",
      "==========================================\n"
     ]
    },
    {
     "name": "stderr",
     "output_type": "stream",
     "text": [
      "\n"
     ]
    }
   ],
   "source": [
    "for epoch in range(epochs):\n",
    "    print(\"==========================================\")\n",
    "    train_loop(model=model,dataloader=train_dataloader,optimizer=optimizer,epoch=epoch+1)\n",
    "    test_loop(model=model,dataloader=test_dataloader)"
   ]
  },
  {
   "cell_type": "markdown",
   "metadata": {},
   "source": [
    "The model can predict the delay time to within about 30 minutes"
   ]
  }
 ],
 "metadata": {
  "kernelspec": {
   "display_name": "cse217a",
   "language": "python",
   "name": "python3"
  },
  "language_info": {
   "codemirror_mode": {
    "name": "ipython",
    "version": 3
   },
   "file_extension": ".py",
   "mimetype": "text/x-python",
   "name": "python",
   "nbconvert_exporter": "python",
   "pygments_lexer": "ipython3",
   "version": "3.10.12"
  }
 },
 "nbformat": 4,
 "nbformat_minor": 2
}
